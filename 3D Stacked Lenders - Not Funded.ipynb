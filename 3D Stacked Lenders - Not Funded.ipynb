{
 "cells": [
  {
   "cell_type": "code",
   "execution_count": 1,
   "metadata": {},
   "outputs": [],
   "source": [
    "import pandas as pd\n",
    "import numpy as np\n",
    "import matplotlib.pyplot as plt\n",
    "import seaborn as sns\n",
    "import time                   # To time processes\n",
    "import warnings               # To suppress warnings\n",
    "from sklearn.preprocessing import StandardScaler  # For scaling dataset\n",
    "from sklearn.cluster import KMeans, AgglomerativeClustering, AffinityPropagation #For clustering\n",
    "from sklearn.mixture import GaussianMixture #For GMM clustering\n",
    "import plotly.graph_objs as go\n",
    "import os                     # For os related operations\n",
    "import sys\n",
    "import plotly.plotly as py"
   ]
  },
  {
   "cell_type": "code",
   "execution_count": 2,
   "metadata": {},
   "outputs": [],
   "source": [
    "import plotly\n",
    "plotly.tools.set_credentials_file(username='eisnell', api_key='kIcpyqwgg4POzzZ28txp')"
   ]
  },
  {
   "cell_type": "code",
   "execution_count": 3,
   "metadata": {},
   "outputs": [
    {
     "name": "stderr",
     "output_type": "stream",
     "text": [
      "C:\\Users\\rjanssen\\AppData\\Local\\Continuum\\anaconda3.7\\lib\\site-packages\\IPython\\core\\interactiveshell.py:2785: DtypeWarning:\n",
      "\n",
      "Columns (55) have mixed types. Specify dtype option on import or set low_memory=False.\n",
      "\n"
     ]
    }
   ],
   "source": [
    "adr = pd.read_csv('analytics_data_report')\n",
    "df = pd.DataFrame(adr)\n",
    "df = df.dropna(subset=['Application Complete'])"
   ]
  },
  {
   "cell_type": "code",
   "execution_count": 17,
   "metadata": {},
   "outputs": [],
   "source": [
    "df['Trade-in LTV'] = df['Loan Amount']/df['Trade-in Value']\n",
    "data = df[['App ID','State','Credit Score', 'Trade-in LTV', 'Finance Type', 'Transaction Type', 'Loan Booked']]"
   ]
  },
  {
   "cell_type": "code",
   "execution_count": 18,
   "metadata": {},
   "outputs": [],
   "source": [
    "dfr = pd.DataFrame(data)\n",
    "dfr = dfr[dfr['Finance Type'] != 'Purchase']\n",
    "dfr = dfr[dfr['Transaction Type'] != 'Cash']\n",
    "dfr = dfr[dfr['Loan Booked'].isnull()]\n",
    "dfp = pd.DataFrame(data)\n",
    "dfp = dfp[dfp['Finance Type'] != 'Refi']\n",
    "dfp = dfp[dfp['Transaction Type'] != 'Cash']\n",
    "dfp = dfp[dfp['Loan Booked'].isnull()]"
   ]
  },
  {
   "cell_type": "code",
   "execution_count": 21,
   "metadata": {},
   "outputs": [
    {
     "data": {
      "text/html": [
       "<iframe id=\"igraph\" scrolling=\"no\" style=\"border:none;\" seamless=\"seamless\" src=\"https://plot.ly/~eisnell/62.embed\" height=\"1450px\" width=\"1300px\"></iframe>"
      ],
      "text/plain": [
       "<chart_studio.tools.PlotlyDisplay object>"
      ]
     },
     "execution_count": 21,
     "metadata": {},
     "output_type": "execute_result"
    }
   ],
   "source": [
    "scatter = dict(\n",
    "    mode = \"markers\",\n",
    "    name = \"y\",\n",
    "    type = \"scatter3d\",    \n",
    "    x = dfr['Credit Score'], y = dfr['Trade-in LTV'], z = dfr['State'],\n",
    "    marker = dict( size=4.5, color=\"rgb(250, 0, 0)\" )\n",
    ")\n",
    "\n",
    "clusters = dict(\n",
    "    color= 'rgb(250, 0, 0)',\n",
    "    alphahull = 7,\n",
    "    name = \"y\",\n",
    "    opacity = 0.1,\n",
    "    type = \"mesh3d\",\n",
    "    x = dfr['Credit Score'], y = dfr['Trade-in LTV'], z = dfr['State']\n",
    ")\n",
    "\n",
    "\n",
    "layout = go.Layout(\n",
    "    title = '3D Point Clustering Opportunity', height=1450, width=1300,\n",
    "    scene = dict(\n",
    "        xaxis = dict( zeroline=False ),\n",
    "        yaxis = dict( zeroline=False ),\n",
    "        zaxis = dict( zeroline=False ),\n",
    "    ),\n",
    ")\n",
    "\n",
    "fig = dict(data=[scatter, clusters], layout=layout)\n",
    "# Use py.iplot() for IPython notebook\n",
    "py.iplot(fig, filename='3d point clustering')"
   ]
  },
  {
   "cell_type": "code",
   "execution_count": null,
   "metadata": {},
   "outputs": [],
   "source": []
  }
 ],
 "metadata": {
  "kernelspec": {
   "display_name": "Python 3",
   "language": "python",
   "name": "python3"
  },
  "language_info": {
   "codemirror_mode": {
    "name": "ipython",
    "version": 3
   },
   "file_extension": ".py",
   "mimetype": "text/x-python",
   "name": "python",
   "nbconvert_exporter": "python",
   "pygments_lexer": "ipython3",
   "version": "3.7.0"
  }
 },
 "nbformat": 4,
 "nbformat_minor": 2
}
