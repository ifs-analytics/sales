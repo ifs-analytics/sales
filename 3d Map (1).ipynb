{
 "cells": [
  {
   "cell_type": "code",
   "execution_count": 65,
   "metadata": {},
   "outputs": [],
   "source": [
    "import pandas as pd\n",
    "import numpy as np\n",
    "import matplotlib.pyplot as plt\n",
    "import seaborn as sns\n",
    "import time                   # To time processes\n",
    "import warnings               # To suppress warnings\n",
    "from sklearn.preprocessing import StandardScaler  # For scaling dataset\n",
    "from sklearn.cluster import KMeans, AgglomerativeClustering, AffinityPropagation #For clustering\n",
    "from sklearn.mixture import GaussianMixture #For GMM clustering\n",
    "import plotly.graph_objs as go\n",
    "import os                     # For os related operations\n",
    "import sys\n",
    "import plotly.plotly as py"
   ]
  },
  {
   "cell_type": "code",
   "execution_count": 66,
   "metadata": {},
   "outputs": [],
   "source": [
    "import plotly\n",
    "plotly.tools.set_credentials_file(username='eisnell', api_key='kIcpyqwgg4POzzZ28txp')"
   ]
  },
  {
   "cell_type": "code",
   "execution_count": 67,
   "metadata": {},
   "outputs": [],
   "source": [
    "adr = pd.read_csv('analytics_data_report.csv')\n",
    "df = pd.DataFrame(adr)\n",
    "adr = adr.dropna(subset=['Lender','Loan Booked'])\n",
    "adr = adr[adr.columns.drop(list(df.filter(regex='Cash')))]"
   ]
  },
  {
   "cell_type": "code",
   "execution_count": 68,
   "metadata": {},
   "outputs": [
    {
     "name": "stderr",
     "output_type": "stream",
     "text": [
      "/home/nbuser/anaconda3_501/lib/python3.6/site-packages/ipykernel/__main__.py:5: RuntimeWarning:\n",
      "\n",
      "divide by zero encountered in log\n",
      "\n"
     ]
    },
    {
     "data": {
      "text/html": [
       "<div>\n",
       "<style>\n",
       "    .dataframe tbody tr th:only-of-type {\n",
       "        vertical-align: middle;\n",
       "    }\n",
       "\n",
       "    .dataframe tbody tr th {\n",
       "        vertical-align: top;\n",
       "    }\n",
       "\n",
       "    .dataframe thead th {\n",
       "        text-align: right;\n",
       "    }\n",
       "</style>\n",
       "<table class=\"dataframe\">\n",
       "  <thead>\n",
       "    <tr style=\"text-align: right;\">\n",
       "      <th></th>\n",
       "      <th>Credit Score</th>\n",
       "      <th>Total Gross Income</th>\n",
       "      <th>Vehicle Year</th>\n",
       "      <th>Vehicle Mileage</th>\n",
       "      <th>Trade-in LTV</th>\n",
       "      <th>Buy Rate</th>\n",
       "    </tr>\n",
       "  </thead>\n",
       "  <tbody>\n",
       "    <tr>\n",
       "      <th>103970</th>\n",
       "      <td>-0.226066</td>\n",
       "      <td>-1.267700</td>\n",
       "      <td>-0.000496</td>\n",
       "      <td>-0.050010</td>\n",
       "      <td>-0.076662</td>\n",
       "      <td>0.952972</td>\n",
       "    </tr>\n",
       "    <tr>\n",
       "      <th>104010</th>\n",
       "      <td>0.293761</td>\n",
       "      <td>0.893481</td>\n",
       "      <td>-0.000496</td>\n",
       "      <td>-0.424883</td>\n",
       "      <td>-0.318942</td>\n",
       "      <td>-1.009485</td>\n",
       "    </tr>\n",
       "    <tr>\n",
       "      <th>104081</th>\n",
       "      <td>-0.321793</td>\n",
       "      <td>-0.122218</td>\n",
       "      <td>0.001488</td>\n",
       "      <td>-0.146818</td>\n",
       "      <td>0.137573</td>\n",
       "      <td>0.752403</td>\n",
       "    </tr>\n",
       "    <tr>\n",
       "      <th>104136</th>\n",
       "      <td>0.204918</td>\n",
       "      <td>-0.074108</td>\n",
       "      <td>-0.000496</td>\n",
       "      <td>0.633303</td>\n",
       "      <td>0.103359</td>\n",
       "      <td>-0.668789</td>\n",
       "    </tr>\n",
       "    <tr>\n",
       "      <th>104389</th>\n",
       "      <td>-0.017870</td>\n",
       "      <td>-0.200141</td>\n",
       "      <td>0.000496</td>\n",
       "      <td>-0.984904</td>\n",
       "      <td>-0.119908</td>\n",
       "      <td>0.127833</td>\n",
       "    </tr>\n",
       "  </tbody>\n",
       "</table>\n",
       "</div>"
      ],
      "text/plain": [
       "        Credit Score  Total Gross Income  Vehicle Year  Vehicle Mileage  \\\n",
       "103970     -0.226066           -1.267700     -0.000496        -0.050010   \n",
       "104010      0.293761            0.893481     -0.000496        -0.424883   \n",
       "104081     -0.321793           -0.122218      0.001488        -0.146818   \n",
       "104136      0.204918           -0.074108     -0.000496         0.633303   \n",
       "104389     -0.017870           -0.200141      0.000496        -0.984904   \n",
       "\n",
       "        Trade-in LTV  Buy Rate  \n",
       "103970     -0.076662  0.952972  \n",
       "104010     -0.318942 -1.009485  \n",
       "104081      0.137573  0.752403  \n",
       "104136      0.103359 -0.668789  \n",
       "104389     -0.119908  0.127833  "
      ]
     },
     "execution_count": 68,
     "metadata": {},
     "output_type": "execute_result"
    }
   ],
   "source": [
    "adr['Trade-in LTV'] = adr['Loan Amount']/adr['Trade-in Value']\n",
    "adr['Total Gross Income'] = adr['Gross Income'] + adr['Additional Income'] + adr['Coapp Gross Income'] + adr['Coapp Additional Income']\n",
    "adr['Lender'].unique()\n",
    "data2 = adr[['Lender','Credit Score', 'Total Gross Income', 'Vehicle Year', 'Vehicle Mileage', 'Trade-in LTV', 'Buy Rate','Finance Type']]\n",
    "trans_data = np.log(data).diff().dropna()\n",
    "trans_data[-5:]\n"
   ]
  },
  {
   "cell_type": "code",
   "execution_count": 74,
   "metadata": {},
   "outputs": [],
   "source": [
    "data2 = adr[['Lender', 'State','Credit Score', 'Total Gross Income', 'Vehicle Year', 'Vehicle Mileage', 'Trade-in LTV','Finance Type']]\n"
   ]
  },
  {
   "cell_type": "code",
   "execution_count": 75,
   "metadata": {},
   "outputs": [],
   "source": [
    "dfr = pd.DataFrame(data2)\n",
    "dfr = dfr[dfr['Finance Type'] != 'Purchase']\n",
    "dfp = pd.DataFrame(data2)\n",
    "dfp = dfp[dfp['Finance Type'] != 'Refi']\n",
    "\n"
   ]
  },
  {
   "cell_type": "code",
   "execution_count": 90,
   "metadata": {},
   "outputs": [
    {
     "name": "stderr",
     "output_type": "stream",
     "text": [
      "/home/nbuser/anaconda3_501/lib/python3.6/site-packages/IPython/core/display.py:689: UserWarning:\n",
      "\n",
      "Consider using IPython.display.IFrame instead\n",
      "\n"
     ]
    },
    {
     "data": {
      "text/html": [
       "&lt;iframe height=\"1450px\" id=\"igraph\" scrolling=\"no\" seamless=\"seamless\" src=\"https://plot.ly/~eisnell/62.embed\" style=\"border:none;\" width=\"1300px\"&gt;&lt;/iframe&gt;"
      ],
      "text/plain": [
       "<chart_studio.tools.PlotlyDisplay object>"
      ]
     },
     "execution_count": 90,
     "metadata": {},
     "output_type": "execute_result"
    }
   ],
   "source": [
    "scatter = dict(\n",
    "    mode = \"markers\",\n",
    "    name = \"y\",\n",
    "    type = \"scatter3d\",    \n",
    "    x = dfr['Credit Score'], y = dfr['Trade-in LTV'], z = dfr['Lender'],\n",
    "    marker = dict( size=4.5, color=\"rgb(23, 190, 207)\" )\n",
    ")\n",
    "clusters = dict(\n",
    "    alphahull = 7,\n",
    "    name = \"y\",\n",
    "    opacity = 0.1,\n",
    "    type = \"mesh3d\",    \n",
    "    x = dfr['Credit Score'], y = dfr['Trade-in LTV'], z = dfr['Lender']\n",
    ")\n",
    "layout = go.Layout(\n",
    "    title = '3d point clustering', height=1450, width=1300,\n",
    "    scene = dict(\n",
    "        xaxis = dict( zeroline=False ),\n",
    "        yaxis = dict( zeroline=False ),\n",
    "        zaxis = dict( zeroline=False ),\n",
    "    ),\n",
    ")\n",
    "\n",
    "fig = dict(data=[scatter, clusters], layout=layout)\n",
    "# Use py.iplot() for IPython notebook\n",
    "py.iplot(fig, filename='3d point clustering')"
   ]
  },
  {
   "cell_type": "code",
   "execution_count": 89,
   "metadata": {},
   "outputs": [
    {
     "name": "stderr",
     "output_type": "stream",
     "text": [
      "/home/nbuser/anaconda3_501/lib/python3.6/site-packages/IPython/core/display.py:689: UserWarning:\n",
      "\n",
      "Consider using IPython.display.IFrame instead\n",
      "\n"
     ]
    },
    {
     "data": {
      "text/html": [
       "&lt;iframe height=\"1450px\" id=\"igraph\" scrolling=\"no\" seamless=\"seamless\" src=\"https://plot.ly/~eisnell/62.embed\" style=\"border:none;\" width=\"1300px\"&gt;&lt;/iframe&gt;"
      ],
      "text/plain": [
       "<chart_studio.tools.PlotlyDisplay object>"
      ]
     },
     "execution_count": 89,
     "metadata": {},
     "output_type": "execute_result"
    }
   ],
   "source": [
    "scatter = dict(\n",
    "    mode = \"markers\",\n",
    "    name = \"y\",\n",
    "    type = \"scatter3d\",    \n",
    "    x = dfp['Credit Score'], y = dfp['Trade-in LTV'], z = dfp['Lender'],\n",
    "    marker = dict( size=4.5, color=\"rgb(23, 190, 207)\" )\n",
    ")\n",
    "clusters = dict(\n",
    "    alphahull = 7,\n",
    "    name = \"y\",\n",
    "    opacity = 0.1,\n",
    "    type = \"mesh3d\",    \n",
    "    x = dfr['Credit Score'], y = dfr['Trade-in LTV'], z = dfr['Lender']\n",
    ")\n",
    "layout = go.Layout(\n",
    "    title = '3d point clustering', height=1450, width=1300,\n",
    "    scene = dict(\n",
    "        xaxis = dict( zeroline=False ),\n",
    "        yaxis = dict( zeroline=False ),\n",
    "        zaxis = dict( zeroline=False ),\n",
    "    ),\n",
    ")\n",
    "\n",
    "fig = dict(data=[scatter, clusters], layout=layout)\n",
    "# Use py.iplot() for IPython notebook\n",
    "py.iplot(fig, filename='3d point clustering')"
   ]
  },
  {
   "cell_type": "code",
   "execution_count": null,
   "metadata": {},
   "outputs": [],
   "source": []
  }
 ],
 "metadata": {
  "kernelspec": {
   "display_name": "Python 3.6",
   "language": "python",
   "name": "python36"
  },
  "language_info": {
   "codemirror_mode": {
    "name": "ipython",
    "version": 3
   },
   "file_extension": ".py",
   "mimetype": "text/x-python",
   "name": "python",
   "nbconvert_exporter": "python",
   "pygments_lexer": "ipython3",
   "version": "3.6.6"
  }
 },
 "nbformat": 4,
 "nbformat_minor": 2
}
