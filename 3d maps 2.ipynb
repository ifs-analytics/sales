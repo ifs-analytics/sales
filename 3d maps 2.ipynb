{
 "cells": [
  {
   "cell_type": "code",
   "execution_count": 7,
   "metadata": {},
   "outputs": [],
   "source": [
    "import pandas as pd\n",
    "import numpy as np\n",
    "import matplotlib.pyplot as plt\n",
    "import seaborn as sns\n",
    "import time                   # To time processes\n",
    "import warnings               # To suppress warnings\n",
    "from sklearn.preprocessing import StandardScaler  # For scaling dataset\n",
    "from sklearn.cluster import KMeans, AgglomerativeClustering, AffinityPropagation #For clustering\n",
    "from sklearn.mixture import GaussianMixture #For GMM clustering\n",
    "import plotly.graph_objs as go\n",
    "import os                     # For os related operations\n",
    "import sys\n",
    "import plotly.plotly as py"
   ]
  },
  {
   "cell_type": "code",
   "execution_count": 8,
   "metadata": {},
   "outputs": [],
   "source": [
    "import plotly\n",
    "plotly.tools.set_credentials_file(username='eisnell', api_key='kIcpyqwgg4POzzZ28txp')"
   ]
  },
  {
   "cell_type": "code",
   "execution_count": 9,
   "metadata": {},
   "outputs": [],
   "source": [
    "adr = pd.read_csv('analytics_data_report.csv')\n",
    "df = pd.DataFrame(adr)\n",
    "df = df.dropna(subset=['Application Complete'])"
   ]
  },
  {
   "cell_type": "code",
   "execution_count": 10,
   "metadata": {},
   "outputs": [],
   "source": [
    "df['Trade-in LTV'] = df['Loan Amount']/df['Trade-in Value']\n",
    "data = df[['App ID','State','Credit Score', 'Trade-in LTV', 'Finance Type', 'Transaction Type', 'Loan Booked']]"
   ]
  },
  {
   "cell_type": "code",
   "execution_count": 11,
   "metadata": {},
   "outputs": [],
   "source": [
    "\n",
    "dfr = pd.DataFrame(data)\n",
    "dfr = dfr[dfr['Finance Type'] != 'Purchase']\n",
    "dfr = dfr[dfr['Transaction Type'] != 'Cash']\n",
    "dfr = dfr[dfr['Loan Booked'].isnull()]\n",
    "dfr=dfr.sort_values(by=['State'])\n",
    "dfp = pd.DataFrame(data)\n",
    "dfp = dfp[dfp['Finance Type'] != 'Refi']\n",
    "dfp = dfp[dfp['Transaction Type'] != 'Cash']\n",
    "dfp = dfp[dfp['Loan Booked'].isnull()]\n"
   ]
  },
  {
   "cell_type": "code",
   "execution_count": 16,
   "metadata": {},
   "outputs": [
    {
     "name": "stderr",
     "output_type": "stream",
     "text": [
      "/home/nbuser/anaconda3_501/lib/python3.6/site-packages/IPython/core/display.py:689: UserWarning:\n",
      "\n",
      "Consider using IPython.display.IFrame instead\n",
      "\n"
     ]
    },
    {
     "data": {
      "text/html": [
       "&lt;iframe height=\"1450px\" id=\"igraph\" scrolling=\"no\" seamless=\"seamless\" src=\"https://plot.ly/~eisnell/62.embed\" style=\"border:none;\" width=\"1300px\"&gt;&lt;/iframe&gt;"
      ],
      "text/plain": [
       "<chart_studio.tools.PlotlyDisplay object>"
      ]
     },
     "execution_count": 16,
     "metadata": {},
     "output_type": "execute_result"
    }
   ],
   "source": [
    "\n",
    "scatter = dict(\n",
    "    mode = \"markers\",\n",
    "    name = \"y\",\n",
    "    type = \"scatter3d\",    \n",
    "    x = dfr['Credit Score'], y = dfr['Trade-in LTV'], z = dfr['State'],\n",
    "    marker = dict( size=2.5, \n",
    "                 colorscale ='Viridis',\n",
    "                 opacity=.8)\n",
    ")\n",
    "\n",
    "clusters = dict(\n",
    "    alphahull = 5,\n",
    "    name = \"y\",\n",
    "    opacity = 0.1,\n",
    "    type = \"mesh3d\",\n",
    "    x = dfr['Credit Score'], y = dfr['Trade-in LTV'], z = dfr['State']\n",
    ")\n",
    "\n",
    "\n",
    "layout = go.Layout(\n",
    "    title = '3D Point Clustering Opportunity', height=1450, width=1300,\n",
    "    scene = dict(\n",
    "        xaxis = dict( \n",
    "            nticks=8,\n",
    "            range = [450,900],\n",
    "            zeroline=False ),\n",
    "        yaxis = dict( \n",
    "            nticks=5,\n",
    "            range = [.25,2],\n",
    "            zeroline=False ),\n",
    "        zaxis = dict( zeroline=False ),\n",
    "    ),\n",
    ")\n",
    "\n",
    "fig = dict(data=[scatter, clusters], layout=layout)\n",
    "# Use py.iplot() for IPython notebook\n",
    "py.iplot(fig, filename='3d point clustering')"
   ]
  },
  {
   "cell_type": "code",
   "execution_count": null,
   "metadata": {},
   "outputs": [],
   "source": []
  }
 ],
 "metadata": {
  "kernelspec": {
   "display_name": "Python 3.6",
   "language": "python",
   "name": "python36"
  },
  "language_info": {
   "codemirror_mode": {
    "name": "ipython",
    "version": 3
   },
   "file_extension": ".py",
   "mimetype": "text/x-python",
   "name": "python",
   "nbconvert_exporter": "python",
   "pygments_lexer": "ipython3",
   "version": "3.6.6"
  }
 },
 "nbformat": 4,
 "nbformat_minor": 2
}
