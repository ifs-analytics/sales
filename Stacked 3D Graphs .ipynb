{
 "cells": [
  {
   "cell_type": "code",
   "execution_count": 1,
   "metadata": {},
   "outputs": [],
   "source": [
    "import pandas as pd\n",
    "import numpy as np\n",
    "import matplotlib.pyplot as plt\n",
    "import seaborn as sns\n",
    "import time                   # To time processes\n",
    "import warnings               # To suppress warnings\n",
    "from sklearn.preprocessing import StandardScaler  # For scaling dataset\n",
    "from sklearn.cluster import KMeans, AgglomerativeClustering, AffinityPropagation #For clustering\n",
    "from sklearn.mixture import GaussianMixture #For GMM clustering\n",
    "import plotly.graph_objs as go\n",
    "import os                     # For os related operations\n",
    "import sys\n",
    "import plotly.plotly as py"
   ]
  },
  {
   "cell_type": "code",
   "execution_count": 2,
   "metadata": {},
   "outputs": [],
   "source": [
    "import plotly\n",
    "plotly.tools.set_credentials_file(username='eisnell', api_key='kIcpyqwgg4POzzZ28txp')"
   ]
  },
  {
   "cell_type": "code",
   "execution_count": 3,
   "metadata": {},
   "outputs": [],
   "source": [
    "adr = pd.read_csv('analytics_data_report.csv')\n",
    "df = pd.DataFrame(adr)\n",
    "adr = adr.dropna(subset=['Lender','Loan Booked'])\n",
    "adr = adr[adr.columns.drop(list(df.filter(regex='Cash')))]\n",
    "\n",
    "adr2 = pd.read_csv('analytics_data_report.csv')\n",
    "adr2 = adr.dropna(subset=['Lender Decision-Appr'])\n",
    "adr2 = adr2[adr2.columns.drop(list(df.filter(regex='Cash')))]"
   ]
  },
  {
   "cell_type": "code",
   "execution_count": 4,
   "metadata": {},
   "outputs": [],
   "source": [
    "adr['Trade-in LTV'] = adr['Loan Amount']/adr['Trade-in Value']\n",
    "adr2['Trade-in LTV'] = adr2['Loan Amount']/adr2['Trade-in Value']\n",
    "adr['Total Gross Income'] = adr['Gross Income'] + adr['Additional Income'] + adr['Coapp Gross Income'] + adr['Coapp Additional Income']\n",
    "adr2['Total Gross Income'] = adr2['Gross Income'] + adr2['Additional Income'] + adr2['Coapp Gross Income'] + adr2['Coapp Additional Income']\n",
    "data2 = adr[['Lender','Credit Score', 'Total Gross Income', 'Vehicle Year', 'Vehicle Mileage', 'Trade-in LTV', 'Buy Rate','Finance Type''State']]\n",
    "data3 = adr2[['State','Credit Score', 'Total Gross Income', 'Vehicle Year', 'Vehicle Mileage', 'Trade-in LTV', 'Buy Rate','Finance Type','Lender']]\n",
    "\n"
   ]
  },
  {
   "cell_type": "code",
   "execution_count": 5,
   "metadata": {},
   "outputs": [],
   "source": [
    "dfr = pd.DataFrame(data2)\n",
    "dfr = dfr[dfr['Finance Type'] != 'Purchase']\n",
    "dfp = pd.DataFrame(data2)\n",
    "dfp = dfp[dfp['Finance Type'] != 'Refi']\n"
   ]
  },
  {
   "cell_type": "code",
   "execution_count": 6,
   "metadata": {},
   "outputs": [],
   "source": [
    "dfr2 = pd.DataFrame(data3)\n",
    "dfr2 = dfr2[dfr2['Finance Type'] != 'Purchase']\n",
    "dfp2 = pd.DataFrame(data3)\n",
    "dfp2 = dfp2[dfp2['Finance Type'] != 'Refi']"
   ]
  },
  {
   "cell_type": "code",
   "execution_count": 12,
   "metadata": {},
   "outputs": [
    {
     "name": "stderr",
     "output_type": "stream",
     "text": [
      "/home/nbuser/anaconda3_501/lib/python3.6/site-packages/IPython/core/display.py:689: UserWarning:\n",
      "\n",
      "Consider using IPython.display.IFrame instead\n",
      "\n"
     ]
    },
    {
     "data": {
      "text/html": [
       "&lt;iframe height=\"1450px\" id=\"igraph\" scrolling=\"no\" seamless=\"seamless\" src=\"https://plot.ly/~eisnell/62.embed\" style=\"border:none;\" width=\"1300px\"&gt;&lt;/iframe&gt;"
      ],
      "text/plain": [
       "<chart_studio.tools.PlotlyDisplay object>"
      ]
     },
     "execution_count": 12,
     "metadata": {},
     "output_type": "execute_result"
    }
   ],
   "source": [
    "#Stacked alphashape Loan Booked by Lender, Approvals by State\n",
    "scatter = dict(\n",
    "    mode = \"markers\",\n",
    "    name = \"y\",\n",
    "    type = \"scatter3d\",    \n",
    "    x = dfp['Credit Score'], y = dfp['Trade-in LTV'], z = dfp['Lender'],\n",
    "    marker = dict( size=4.5, color=\"rgb(23, 190, 207)\" )\n",
    ")\n",
    "\n",
    "scatter2 = dict(\n",
    "    mode = \"markers\",\n",
    "    name = \"y\",\n",
    "    type = \"scatter3d\",    \n",
    "    x = dfp2['Credit Score'], y = dfp2['Trade-in LTV'], z = dfp2['State'],\n",
    "    marker = dict( size=4.5, color=\"rgb(23, 190, 207)\" )\n",
    ")\n",
    "\n",
    "\n",
    "\n",
    "clusters = dict(\n",
    "    alphahull = 7,\n",
    "    name = \"y\",\n",
    "    opacity = 0.1,\n",
    "    type = \"mesh3d\",    \n",
    "    x = dfp['Credit Score'], y = dfp['Trade-in LTV'], z = dfp['Lender']\n",
    ")\n",
    "\n",
    "\n",
    "clusters2 = dict(\n",
    "    alphahull = 7,\n",
    "    name = \"y\",\n",
    "    opacity = 0.1,\n",
    "    type = \"mesh3d\",    \n",
    "    x = dfp2['Credit Score'], y = dfp2['Trade-in LTV'], z = dfp2['State']\n",
    ")\n",
    "layout = go.Layout(\n",
    "    title = '3d point clustering', height=1450, width=1300,\n",
    "    scene = dict(\n",
    "        xaxis = dict( zeroline=False ),\n",
    "        yaxis = dict( zeroline=False ),\n",
    "        zaxis = dict( zeroline=False ),\n",
    "    ),\n",
    ")\n",
    "\n",
    "fig = dict(data=[scatter, scatter2, clusters, clusters2], layout=layout)\n",
    "# Use py.iplot() for IPython notebook\n",
    "py.iplot(fig, filename='3d point clustering')"
   ]
  },
  {
   "cell_type": "code",
   "execution_count": 11,
   "metadata": {},
   "outputs": [
    {
     "name": "stderr",
     "output_type": "stream",
     "text": [
      "/home/nbuser/anaconda3_501/lib/python3.6/site-packages/IPython/core/display.py:689: UserWarning:\n",
      "\n",
      "Consider using IPython.display.IFrame instead\n",
      "\n"
     ]
    },
    {
     "data": {
      "text/html": [
       "&lt;iframe height=\"1450px\" id=\"igraph\" scrolling=\"no\" seamless=\"seamless\" src=\"https://plot.ly/~eisnell/62.embed\" style=\"border:none;\" width=\"1300px\"&gt;&lt;/iframe&gt;"
      ],
      "text/plain": [
       "<chart_studio.tools.PlotlyDisplay object>"
      ]
     },
     "execution_count": 11,
     "metadata": {},
     "output_type": "execute_result"
    }
   ],
   "source": [
    "#Loan Booked by State\n",
    "scatter = dict(\n",
    "    mode = \"markers\",\n",
    "    name = \"y\",\n",
    "    type = \"scatter3d\",    \n",
    "    x = dfp['Credit Score'], y = dfp['Trade-in LTV'], z = dfp['State'],\n",
    "    marker = dict( size=4.5, color=\"rgb(23, 190, 207)\" )\n",
    ")\n",
    "\n",
    "\n",
    "clusters = dict(\n",
    "    alphahull = 7,\n",
    "    name = \"y\",\n",
    "    opacity = 0.1,\n",
    "    type = \"mesh3d\",    \n",
    "    x = dfp['Credit Score'], y = dfp['Trade-in LTV'], z = dfp['State']\n",
    ")\n",
    "\n",
    "\n",
    "\n",
    "layout = go.Layout(\n",
    "    title = '3d point clustering', height=1450, width=1300,\n",
    "    scene = dict(\n",
    "        xaxis = dict( zeroline=False ),\n",
    "        yaxis = dict( zeroline=False ),\n",
    "        zaxis = dict( zeroline=False ),\n",
    "    ),\n",
    ")\n",
    "\n",
    "fig = dict(data=[scatter, clusters], layout=layout)\n",
    "# Use py.iplot() for IPython notebook\n",
    "py.iplot(fig, filename='3d point clustering')"
   ]
  },
  {
   "cell_type": "code",
   "execution_count": null,
   "metadata": {},
   "outputs": [],
   "source": []
  }
 ],
 "metadata": {
  "kernelspec": {
   "display_name": "Python 3.6",
   "language": "python",
   "name": "python36"
  },
  "language_info": {
   "codemirror_mode": {
    "name": "ipython",
    "version": 3
   },
   "file_extension": ".py",
   "mimetype": "text/x-python",
   "name": "python",
   "nbconvert_exporter": "python",
   "pygments_lexer": "ipython3",
   "version": "3.6.6"
  }
 },
 "nbformat": 4,
 "nbformat_minor": 2
}
