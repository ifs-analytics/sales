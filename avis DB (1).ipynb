{
 "cells": [
  {
   "cell_type": "code",
   "execution_count": 70,
   "metadata": {},
   "outputs": [],
   "source": [
    "import pandas as pd\n",
    "import numpy as np\n",
    "import matplotlib.pyplot as plt\n",
    "import seaborn as sns\n",
    "import time                   # To time processes\n",
    "import warnings               # To suppress warnings\n",
    "from sklearn.preprocessing import StandardScaler  # For scaling dataset\n",
    "from sklearn.cluster import KMeans, AgglomerativeClustering, AffinityPropagation #For clustering\n",
    "from sklearn.mixture import GaussianMixture #For GMM clustering\n",
    "import plotly.graph_objs as go\n",
    "import os                     # For os related operations\n",
    "import sys\n",
    "import plotly.plotly as py\n",
    "from datetime import timedelta\n",
    "from datetime import datetime"
   ]
  },
  {
   "cell_type": "code",
   "execution_count": 71,
   "metadata": {},
   "outputs": [],
   "source": [
    "import plotly\n",
    "plotly.tools.set_credentials_file(username='eisnell', api_key='kIcpyqwgg4POzzZ28txp')"
   ]
  },
  {
   "cell_type": "code",
   "execution_count": 81,
   "metadata": {},
   "outputs": [],
   "source": [
    "data_start = '2019-7-1'\n",
    "\n",
    "adr = pd.read_csv('07-05-19-Avis-Lead-Received (2).csv')\n",
    "\n",
    "df = pd.DataFrame(adr)\n",
    "t1 = pd.to_datetime(df['Appt Date'])\n",
    "t2 = pd.to_datetime(df['UTD Date'])\n",
    "mask = (t1 >= data_start)\n",
    "conv=df.loc[mask]\n",
    "\n",
    "\n",
    "aptc = conv.groupby('CSR')['Appt Date'].count()\n",
    "utdc = conv.groupby('CSR')['UTD Date'].count()\n",
    "srate = aptc / utdc\n",
    "utd = aptc\n",
    "\n",
    "\n",
    "avidash = pd.DataFrame({'UTDs Scheduled': utd,\n",
    "                       'Shows': utdc,\n",
    "                       'Show Rate':srate})\n",
    "\n",
    "avidash2 = avidash.replace([np.inf], np.nan)"
   ]
  },
  {
   "cell_type": "code",
   "execution_count": 82,
   "metadata": {},
   "outputs": [
    {
     "data": {
      "text/html": [
       "<div>\n",
       "<style>\n",
       "    .dataframe tbody tr th:only-of-type {\n",
       "        vertical-align: middle;\n",
       "    }\n",
       "\n",
       "    .dataframe tbody tr th {\n",
       "        vertical-align: top;\n",
       "    }\n",
       "\n",
       "    .dataframe thead th {\n",
       "        text-align: right;\n",
       "    }\n",
       "</style>\n",
       "<table class=\"dataframe\">\n",
       "  <thead>\n",
       "    <tr style=\"text-align: right;\">\n",
       "      <th></th>\n",
       "      <th>UTDs Scheduled</th>\n",
       "      <th>Shows</th>\n",
       "      <th>Show Rate</th>\n",
       "    </tr>\n",
       "    <tr>\n",
       "      <th>CSR</th>\n",
       "      <th></th>\n",
       "      <th></th>\n",
       "      <th></th>\n",
       "    </tr>\n",
       "  </thead>\n",
       "  <tbody>\n",
       "    <tr>\n",
       "      <th>cstiggers</th>\n",
       "      <td>51</td>\n",
       "      <td>17</td>\n",
       "      <td>3.000000</td>\n",
       "    </tr>\n",
       "    <tr>\n",
       "      <th>jcarnes</th>\n",
       "      <td>70</td>\n",
       "      <td>9</td>\n",
       "      <td>7.777778</td>\n",
       "    </tr>\n",
       "    <tr>\n",
       "      <th>lsledge</th>\n",
       "      <td>65</td>\n",
       "      <td>12</td>\n",
       "      <td>5.416667</td>\n",
       "    </tr>\n",
       "    <tr>\n",
       "      <th>rknight</th>\n",
       "      <td>17</td>\n",
       "      <td>2</td>\n",
       "      <td>8.500000</td>\n",
       "    </tr>\n",
       "    <tr>\n",
       "      <th>rsparrow</th>\n",
       "      <td>6</td>\n",
       "      <td>3</td>\n",
       "      <td>2.000000</td>\n",
       "    </tr>\n",
       "    <tr>\n",
       "      <th>sazevedo</th>\n",
       "      <td>70</td>\n",
       "      <td>21</td>\n",
       "      <td>3.333333</td>\n",
       "    </tr>\n",
       "    <tr>\n",
       "      <th>sdeeringer</th>\n",
       "      <td>81</td>\n",
       "      <td>27</td>\n",
       "      <td>3.000000</td>\n",
       "    </tr>\n",
       "  </tbody>\n",
       "</table>\n",
       "</div>"
      ],
      "text/plain": [
       "            UTDs Scheduled  Shows  Show Rate\n",
       "CSR                                         \n",
       "cstiggers               51     17   3.000000\n",
       "jcarnes                 70      9   7.777778\n",
       "lsledge                 65     12   5.416667\n",
       "rknight                 17      2   8.500000\n",
       "rsparrow                 6      3   2.000000\n",
       "sazevedo                70     21   3.333333\n",
       "sdeeringer              81     27   3.000000"
      ]
     },
     "execution_count": 82,
     "metadata": {},
     "output_type": "execute_result"
    }
   ],
   "source": [
    "avidash2.dropna()"
   ]
  },
  {
   "cell_type": "code",
   "execution_count": 83,
   "metadata": {},
   "outputs": [
    {
     "name": "stderr",
     "output_type": "stream",
     "text": [
      "/home/nbuser/anaconda3_501/lib/python3.6/site-packages/IPython/core/display.py:689: UserWarning:\n",
      "\n",
      "Consider using IPython.display.IFrame instead\n",
      "\n"
     ]
    },
    {
     "data": {
      "text/html": [
       "&lt;iframe height=\"525px\" id=\"igraph\" scrolling=\"no\" seamless=\"seamless\" src=\"https://plot.ly/~eisnell/64.embed\" style=\"border:none;\" width=\"100%\"&gt;&lt;/iframe&gt;"
      ],
      "text/plain": [
       "<chart_studio.tools.PlotlyDisplay object>"
      ]
     },
     "execution_count": 83,
     "metadata": {},
     "output_type": "execute_result"
    }
   ],
   "source": [
    "trace1 = go.Bar(\n",
    "            x=df['CSR'],\n",
    "            y=avidash2['UTDs Scheduled'],\n",
    "            name = 'UTDs Scheduled')\n",
    "trace2 = go.Bar(\n",
    "        x=df['CSR'],\n",
    "        y=avidash2['Shows'],\n",
    "        name='Shows')\n",
    "data = [trace1, trace2]\n",
    "layout = go.Layout(\n",
    "            barmode='stack')\n",
    "\n",
    "fig = go.Figure(data=data, layout=layout)\n",
    "py.iplot(fig, filename='stacked')"
   ]
  },
  {
   "cell_type": "code",
   "execution_count": null,
   "metadata": {},
   "outputs": [],
   "source": []
  }
 ],
 "metadata": {
  "kernelspec": {
   "display_name": "Python 3.6",
   "language": "python",
   "name": "python36"
  },
  "language_info": {
   "codemirror_mode": {
    "name": "ipython",
    "version": 3
   },
   "file_extension": ".py",
   "mimetype": "text/x-python",
   "name": "python",
   "nbconvert_exporter": "python",
   "pygments_lexer": "ipython3",
   "version": "3.6.6"
  }
 },
 "nbformat": 4,
 "nbformat_minor": 2
}
