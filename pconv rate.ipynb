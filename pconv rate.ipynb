{
  "cells": [
    {
      "metadata": {
        "trusted": true
      },
      "cell_type": "code",
      "source": "import pandas as pd",
      "execution_count": 34,
      "outputs": []
    },
    {
      "metadata": {
        "trusted": true
      },
      "cell_type": "code",
      "source": "df = pd.read_csv(\"p rate.csv\")\n\ndf.columns = df.columns.str.replace(' ','_').str.lower()\n\n\npartner = []\nfor row in df:\n    if row[0] not in partner:\n        partner.append(row[0])\n\n\n\n\ndf.head()",
      "execution_count": 48,
      "outputs": [
        {
          "output_type": "execute_result",
          "execution_count": 48,
          "data": {
            "text/html": "<div>\n<style scoped>\n    .dataframe tbody tr th:only-of-type {\n        vertical-align: middle;\n    }\n\n    .dataframe tbody tr th {\n        vertical-align: top;\n    }\n\n    .dataframe thead th {\n        text-align: right;\n    }\n</style>\n<table border=\"1\" class=\"dataframe\">\n  <thead>\n    <tr style=\"text-align: right;\">\n      <th></th>\n      <th>app_id</th>\n      <th>partner</th>\n      <th>finance_type</th>\n      <th>referral_received</th>\n      <th>credit_pulled</th>\n      <th>first_note_date</th>\n      <th>contact</th>\n      <th>application_complete</th>\n      <th>sent_to_lender</th>\n      <th>lender_decision-decl</th>\n      <th>...</th>\n      <th>turned_in_to_processing</th>\n      <th>loan_docs_sent</th>\n      <th>loan_docs_returned</th>\n      <th>docs_sent_to_bank</th>\n      <th>loan_booked</th>\n      <th>payoff_sent</th>\n      <th>prior_title_rec'd</th>\n      <th>sent_to_dmv</th>\n      <th>title_perfected</th>\n      <th>remove_from_follow-up</th>\n    </tr>\n  </thead>\n  <tbody>\n    <tr>\n      <th>0</th>\n      <td>A19010001</td>\n      <td>IFS Marketing Organic Lease</td>\n      <td>Purchase</td>\n      <td>1/1/2019</td>\n      <td>1/1/2019</td>\n      <td>1/19/2019</td>\n      <td>NaN</td>\n      <td>NaN</td>\n      <td>NaN</td>\n      <td>NaN</td>\n      <td>...</td>\n      <td>NaN</td>\n      <td>NaN</td>\n      <td>NaN</td>\n      <td>NaN</td>\n      <td>NaN</td>\n      <td>NaN</td>\n      <td>NaN</td>\n      <td>NaN</td>\n      <td>NaN</td>\n      <td>2/27/2019</td>\n    </tr>\n    <tr>\n      <th>1</th>\n      <td>A19010002</td>\n      <td>Enterprise Fleet Management</td>\n      <td>Purchase</td>\n      <td>1/1/2019</td>\n      <td>NaN</td>\n      <td>1/2/2019</td>\n      <td>NaN</td>\n      <td>1/14/2019</td>\n      <td>NaN</td>\n      <td>NaN</td>\n      <td>...</td>\n      <td>1/14/2019</td>\n      <td>1/14/2019</td>\n      <td>1/29/2019</td>\n      <td>NaN</td>\n      <td>1/29/2019</td>\n      <td>1/30/2019</td>\n      <td>2/1/2019</td>\n      <td>2/8/2019</td>\n      <td>3/12/2019</td>\n      <td>4/1/2019</td>\n    </tr>\n    <tr>\n      <th>2</th>\n      <td>A19010003</td>\n      <td>Credit Karma</td>\n      <td>Refi</td>\n      <td>1/1/2019</td>\n      <td>1/1/2019</td>\n      <td>1/2/2019</td>\n      <td>NaN</td>\n      <td>NaN</td>\n      <td>NaN</td>\n      <td>NaN</td>\n      <td>...</td>\n      <td>NaN</td>\n      <td>NaN</td>\n      <td>NaN</td>\n      <td>NaN</td>\n      <td>NaN</td>\n      <td>NaN</td>\n      <td>NaN</td>\n      <td>NaN</td>\n      <td>NaN</td>\n      <td>1/9/2019</td>\n    </tr>\n    <tr>\n      <th>3</th>\n      <td>A19010004</td>\n      <td>Credit Karma</td>\n      <td>Refi</td>\n      <td>1/1/2019</td>\n      <td>1/1/2019</td>\n      <td>NaN</td>\n      <td>NaN</td>\n      <td>NaN</td>\n      <td>NaN</td>\n      <td>NaN</td>\n      <td>...</td>\n      <td>NaN</td>\n      <td>NaN</td>\n      <td>NaN</td>\n      <td>NaN</td>\n      <td>NaN</td>\n      <td>NaN</td>\n      <td>NaN</td>\n      <td>NaN</td>\n      <td>NaN</td>\n      <td>1/1/2019</td>\n    </tr>\n    <tr>\n      <th>4</th>\n      <td>A19010005</td>\n      <td>Credit Karma</td>\n      <td>Refi</td>\n      <td>1/1/2019</td>\n      <td>1/1/2019</td>\n      <td>1/2/2019</td>\n      <td>NaN</td>\n      <td>NaN</td>\n      <td>NaN</td>\n      <td>NaN</td>\n      <td>...</td>\n      <td>NaN</td>\n      <td>NaN</td>\n      <td>NaN</td>\n      <td>NaN</td>\n      <td>NaN</td>\n      <td>NaN</td>\n      <td>NaN</td>\n      <td>NaN</td>\n      <td>NaN</td>\n      <td>1/11/2019</td>\n    </tr>\n  </tbody>\n</table>\n<p>5 rows × 23 columns</p>\n</div>",
            "text/plain": "      app_id                      partner finance_type referral_received  \\\n0  A19010001  IFS Marketing Organic Lease     Purchase          1/1/2019   \n1  A19010002  Enterprise Fleet Management     Purchase          1/1/2019   \n2  A19010003                 Credit Karma         Refi          1/1/2019   \n3  A19010004                 Credit Karma         Refi          1/1/2019   \n4  A19010005                 Credit Karma         Refi          1/1/2019   \n\n  credit_pulled first_note_date contact application_complete sent_to_lender  \\\n0      1/1/2019       1/19/2019     NaN                  NaN            NaN   \n1           NaN        1/2/2019     NaN            1/14/2019            NaN   \n2      1/1/2019        1/2/2019     NaN                  NaN            NaN   \n3      1/1/2019             NaN     NaN                  NaN            NaN   \n4      1/1/2019        1/2/2019     NaN                  NaN            NaN   \n\n  lender_decision-decl          ...          turned_in_to_processing  \\\n0                  NaN          ...                              NaN   \n1                  NaN          ...                        1/14/2019   \n2                  NaN          ...                              NaN   \n3                  NaN          ...                              NaN   \n4                  NaN          ...                              NaN   \n\n  loan_docs_sent loan_docs_returned docs_sent_to_bank loan_booked payoff_sent  \\\n0            NaN                NaN               NaN         NaN         NaN   \n1      1/14/2019          1/29/2019               NaN   1/29/2019   1/30/2019   \n2            NaN                NaN               NaN         NaN         NaN   \n3            NaN                NaN               NaN         NaN         NaN   \n4            NaN                NaN               NaN         NaN         NaN   \n\n  prior_title_rec'd sent_to_dmv title_perfected remove_from_follow-up  \n0               NaN         NaN             NaN             2/27/2019  \n1          2/1/2019    2/8/2019       3/12/2019              4/1/2019  \n2               NaN         NaN             NaN              1/9/2019  \n3               NaN         NaN             NaN              1/1/2019  \n4               NaN         NaN             NaN             1/11/2019  \n\n[5 rows x 23 columns]"
          },
          "metadata": {}
        }
      ]
    },
    {
      "metadata": {
        "trusted": true
      },
      "cell_type": "code",
      "source": "",
      "execution_count": null,
      "outputs": []
    },
    {
      "metadata": {
        "trusted": true
      },
      "cell_type": "code",
      "source": "",
      "execution_count": null,
      "outputs": []
    }
  ],
  "metadata": {
    "kernelspec": {
      "name": "python36",
      "display_name": "Python 3.6",
      "language": "python"
    },
    "language_info": {
      "mimetype": "text/x-python",
      "nbconvert_exporter": "python",
      "name": "python",
      "pygments_lexer": "ipython3",
      "version": "3.6.6",
      "file_extension": ".py",
      "codemirror_mode": {
        "version": 3,
        "name": "ipython"
      }
    }
  },
  "nbformat": 4,
  "nbformat_minor": 2
}