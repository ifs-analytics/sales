{
  "cells": [
    {
      "metadata": {
        "trusted": true
      },
      "cell_type": "code",
      "source": "import pandas as pd\nimport numpy as np\nimport matplotlib.pyplot as plt\nimport seaborn as sns\nimport time                   # To time processes\nimport warnings               # To suppress warnings\nfrom sklearn.preprocessing import StandardScaler  # For scaling dataset\nfrom sklearn.cluster import KMeans, AgglomerativeClustering, AffinityPropagation #For clustering\nfrom sklearn.mixture import GaussianMixture #For GMM clustering\nimport plotly.graph_objs as go\nimport os                     # For os related operations\nimport sys\nimport plotly.plotly as py",
      "execution_count": 7,
      "outputs": []
    },
    {
      "metadata": {
        "trusted": true
      },
      "cell_type": "code",
      "source": "import plotly\nplotly.tools.set_credentials_file(username='eisnell', api_key='kIcpyqwgg4POzzZ28txp')",
      "execution_count": 8,
      "outputs": []
    },
    {
      "metadata": {
        "trusted": true
      },
      "cell_type": "code",
      "source": "adr = pd.read_csv('analytics_data_report.csv')\ndf = pd.DataFrame(adr)\ndf = df.dropna(subset=['Application Complete'])",
      "execution_count": 9,
      "outputs": []
    },
    {
      "metadata": {
        "trusted": true
      },
      "cell_type": "code",
      "source": "df['Trade-in LTV'] = df['Loan Amount']/df['Trade-in Value']\ndata = df[['App ID','State','Credit Score', 'Trade-in LTV', 'Finance Type', 'Transaction Type', 'Loan Booked']]",
      "execution_count": 10,
      "outputs": []
    },
    {
      "metadata": {
        "trusted": true
      },
      "cell_type": "code",
      "source": "\ndfr = pd.DataFrame(data)\ndfr = dfr[dfr['Finance Type'] != 'Purchase']\ndfr = dfr[dfr['Transaction Type'] != 'Cash']\ndfr = dfr[dfr['Loan Booked'].isnull()]\ndfr=dfr.sort_values(by=['State'])\ndfp = pd.DataFrame(data)\ndfp = dfp[dfp['Finance Type'] != 'Refi']\ndfp = dfp[dfp['Transaction Type'] != 'Cash']\ndfp = dfp[dfp['Loan Booked'].isnull()]\n",
      "execution_count": 11,
      "outputs": []
    },
    {
      "metadata": {
        "trusted": true
      },
      "cell_type": "code",
      "source": "\nscatter = dict(\n    mode = \"markers\",\n    name = \"y\",\n    type = \"scatter3d\",    \n    x = dfr['Credit Score'], y = dfr['Trade-in LTV'], z = dfr['State'],\n    marker = dict( size=2.5, \n                 colorscale ='Viridis',\n                 opacity=.8)\n)\n\nclusters = dict(\n    alphahull = 5,\n    name = \"y\",\n    opacity = 0.1,\n    type = \"mesh3d\",\n    x = dfr['Credit Score'], y = dfr['Trade-in LTV'], z = dfr['State']\n)\n\n\nlayout = go.Layout(\n    title = '3D Point Clustering Opportunity', height=1450, width=1300,\n    scene = dict(\n        xaxis = dict( \n            nticks=8,\n            range = [450,900],\n            zeroline=False ),\n        yaxis = dict( \n            nticks=5,\n            range = [.25,2],\n            zeroline=False ),\n        zaxis = dict( zeroline=False ),\n    ),\n)\n\nfig = dict(data=[scatter, clusters], layout=layout)\n# Use py.iplot() for IPython notebook\npy.iplot(fig, filename='3d point clustering')",
      "execution_count": 16,
      "outputs": [
        {
          "output_type": "stream",
          "text": "/home/nbuser/anaconda3_501/lib/python3.6/site-packages/IPython/core/display.py:689: UserWarning:\n\nConsider using IPython.display.IFrame instead\n\n",
          "name": "stderr"
        },
        {
          "output_type": "execute_result",
          "execution_count": 16,
          "data": {
            "text/html": "<iframe id=\"igraph\" scrolling=\"no\" style=\"border:none;\" seamless=\"seamless\" src=\"https://plot.ly/~eisnell/62.embed\" height=\"1450px\" width=\"1300px\"></iframe>",
            "text/plain": "<chart_studio.tools.PlotlyDisplay object>"
          },
          "metadata": {}
        }
      ]
    },
    {
      "metadata": {
        "trusted": true
      },
      "cell_type": "code",
      "source": "",
      "execution_count": null,
      "outputs": []
    }
  ],
  "metadata": {
    "kernelspec": {
      "name": "python36",
      "display_name": "Python 3.6",
      "language": "python"
    },
    "language_info": {
      "mimetype": "text/x-python",
      "nbconvert_exporter": "python",
      "name": "python",
      "pygments_lexer": "ipython3",
      "version": "3.6.6",
      "file_extension": ".py",
      "codemirror_mode": {
        "version": 3,
        "name": "ipython"
      }
    }
  },
  "nbformat": 4,
  "nbformat_minor": 2
}