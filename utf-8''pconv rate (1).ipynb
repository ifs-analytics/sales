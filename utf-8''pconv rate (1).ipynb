{
  "cells": [
    {
      "metadata": {
        "trusted": true
      },
      "cell_type": "code",
      "source": "import pandas as pd",
      "execution_count": 34,
      "outputs": []
    },
    {
      "metadata": {
        "trusted": true
      },
      "cell_type": "code",
      "source": "# open csv\ndf = pd.read_csv(\"p rate.csv\")\n\n#clean column names - remove spaces force lowercase\ndf.columns = df.columns.str.replace(' ','_').str.lower()\n\n",
      "execution_count": 74,
      "outputs": []
    },
    {
      "metadata": {
        "trusted": true
      },
      "cell_type": "code",
      "source": "#verify booked loan count\nbookcount = df.groupby(\"partner\")[\"loan_booked\"].count()\n",
      "execution_count": 75,
      "outputs": []
    },
    {
      "metadata": {
        "trusted": true
      },
      "cell_type": "code",
      "source": "#verify lead received count\nleadcount = df.groupby(\"partner\")[\"referral_received\"].count()\nprint(leadcount)",
      "execution_count": 71,
      "outputs": [
        {
          "output_type": "stream",
          "text": "partner\nA+ Federal CU Lease Buyout         1\nAVIS                             328\nAutolist - AVIS                    0\nAvis Online App                    2\nAvis Rental                        7\nCarGurus - Avis                   30\nChrysler Capital Cash              0\nChrysler Capital Lease           234\nConsumersAdvocate                  0\nCredit Karma                     496\nCredit Karma Lease Buyout          0\nCredit-com                         0\nDonlen                            47\nElement                          104\nEmkay                             20\nEnterprise Fleet Management      561\nFiserv                             0\nFiserv GM Lease                  179\nFlexco                            11\nFlexco Stand Alone VSC             0\nHCA - Hyundai Kia                223\nIFS                               88\nIFS - Customer Service             4\nIFS Employee Referral Refi         0\nIFS Marketing Organic              5\nIFS Marketing Organic Lease        5\nLeasePlan                         32\nLending Tree                       0\nLending Tree Lease                17\nLending Tree Refi                  0\nMike Albert                        1\nMyAutoLoan Lease                  12\nMyAutoloan Refi                    0\nNatural Intelligence - Top 10     11\nNatural Intelligence Lease         0\nNerdWallet                        77\nSelectQuote                        0\nStand Alone VSC                    0\nTrueCar - AVIS                    66\nWheels                           140\nmyFICO                             0\nName: loan_booked, dtype: int64\n",
          "name": "stdout"
        }
      ]
    },
    {
      "metadata": {
        "trusted": true
      },
      "cell_type": "code",
      "source": "# divide book count by referral received count and print results\nconversions = bookcount / leadcount\nprint(conversions)",
      "execution_count": 84,
      "outputs": [
        {
          "output_type": "stream",
          "text": "partner\nA+ Federal CU Lease Buyout       0.200000\nAVIS                             0.324111\nAutolist - AVIS                  0.000000\nAvis Online App                  0.040000\nAvis Rental                      0.116667\nCarGurus - Avis                  0.204082\nChrysler Capital Cash            0.000000\nChrysler Capital Lease           0.327731\nConsumersAdvocate                0.000000\nCredit Karma                     0.030653\nCredit Karma Lease Buyout        0.000000\nCredit-com                       0.000000\nDonlen                           0.479592\nElement                          0.398467\nEmkay                            0.465116\nEnterprise Fleet Management      0.732376\nFiserv                           0.000000\nFiserv GM Lease                  0.324275\nFlexco                           0.088000\nFlexco Stand Alone VSC           0.000000\nHCA - Hyundai Kia                0.480603\nIFS                              0.097130\nIFS - Customer Service           0.142857\nIFS Employee Referral Refi       0.000000\nIFS Marketing Organic            0.011547\nIFS Marketing Organic Lease      0.096154\nLeasePlan                        0.477612\nLending Tree                     0.000000\nLending Tree Lease               0.014120\nLending Tree Refi                0.000000\nMike Albert                      0.250000\nMyAutoLoan Lease                 0.045977\nMyAutoloan Refi                  0.000000\nNatural Intelligence - Top 10    0.016369\nNatural Intelligence Lease       0.000000\nNerdWallet                       0.048673\nSelectQuote                      0.000000\nStand Alone VSC                  0.000000\nTrueCar - AVIS                   0.271605\nWheels                           0.371353\nmyFICO                           0.000000\ndtype: float64\n",
          "name": "stdout"
        }
      ]
    },
    {
      "metadata": {
        "trusted": true
      },
      "cell_type": "code",
      "source": "",
      "execution_count": 83,
      "outputs": []
    },
    {
      "metadata": {
        "trusted": true
      },
      "cell_type": "code",
      "source": "",
      "execution_count": null,
      "outputs": []
    }
  ],
  "metadata": {
    "kernelspec": {
      "name": "python36",
      "display_name": "Python 3.6",
      "language": "python"
    },
    "language_info": {
      "mimetype": "text/x-python",
      "nbconvert_exporter": "python",
      "name": "python",
      "pygments_lexer": "ipython3",
      "version": "3.6.6",
      "file_extension": ".py",
      "codemirror_mode": {
        "version": 3,
        "name": "ipython"
      }
    }
  },
  "nbformat": 4,
  "nbformat_minor": 2
}